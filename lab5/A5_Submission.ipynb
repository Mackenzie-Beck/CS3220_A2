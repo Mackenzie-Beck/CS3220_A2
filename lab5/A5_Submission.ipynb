{
 "cells": [
  {
   "cell_type": "markdown",
   "metadata": {},
   "source": [
    "Notebook Setup:\n",
    "---"
   ]
  },
  {
   "cell_type": "code",
   "execution_count": 84,
   "metadata": {},
   "outputs": [],
   "source": [
    "import os\n",
    "import sys"
   ]
  },
  {
   "cell_type": "code",
   "execution_count": 85,
   "metadata": {},
   "outputs": [
    {
     "name": "stdout",
     "output_type": "stream",
     "text": [
      "The autoreload extension is already loaded. To reload it, use:\n",
      "  %reload_ext autoreload\n"
     ]
    }
   ],
   "source": [
    "%load_ext autoreload\n",
    "#Now, you can turn on auto-reloading\n",
    "%autoreload 2"
   ]
  },
  {
   "cell_type": "code",
   "execution_count": null,
   "metadata": {},
   "outputs": [],
   "source": [
    "# from google.colab import drive\n",
    "# drive.mount('/content/drive')"
   ]
  },
  {
   "cell_type": "code",
   "execution_count": null,
   "metadata": {},
   "outputs": [],
   "source": [
    "# path = '/content/drive/MyDrive/Colab_Notebooks/cs3220_A5/src' #@param {type: \"string\"}\n",
    "# sys.path.append(path)"
   ]
  },
  {
   "cell_type": "markdown",
   "metadata": {},
   "source": [
    "**Tasks:**\n",
    "1. Refine the given implementaion of the A* search by outputting the number of nodes expanded on the way to the goal ('green' cell) and the total cost of the path.\n",
    "2. Implement a different version of the A* search which uses a Manhattan distance as the heuristic function. Compare the results with previous version of the algorithm. Visualize the path using differrent colors for its components (from the start to goal1, from the goal1 to.., etc.)\n",
    "3. Create the refined Maze:\n",
    "* the food locations are 10% of the space and distributed randomly (even the start and finish points may contain food).\n",
    "* there are 5 Ghosts hidden (the Agent can't figure out the location of the GHost) in the Maze (randomly, but not in the start and finish points, the locations of Fixed Food Dots and Ghosts must also be different).\n",
    "4. The Pac-man Agent must find all Fixed Food Dots and then find the finish point (the results of task 2 are supposed to be used). The search of Fixed Food Dots must be rational: the 1st 'food' goal must be the most cost-optimal among other Food Dots.\n",
    "5. The inital perforamnce of Agent is 20% of space cells. After reaching a Fixed Food Dot the agent's performance doubles. If the Agent encounters Ghosts, it fights. But only the strong Agent (with performance > 30% of space cells) can win. Otherwise the Agent will be killed by Ghost. If the Agent wins, he will lose 10% of his previous effectiveness after the battle.\n",
    "6. Implemet IDA* or RBFS (the algorithm is assigned to the team during the lab class) search and apply it for tasks 4-5."
   ]
  },
  {
   "cell_type": "markdown",
   "metadata": {},
   "source": [
    "Tasks 1-2\n",
    "---"
   ]
  },
  {
   "cell_type": "code",
   "execution_count": 86,
   "metadata": {},
   "outputs": [
    {
     "name": "stdout",
     "output_type": "stream",
     "text": [
      "[[1 1 0 1 1 2 1 1 0 1]\n",
      " [1 2 2 1 1 0 1 1 1 0]\n",
      " [1 0 1 2 1 1 1 1 1 0]\n",
      " [1 0 2 1 0 1 2 1 1 1]\n",
      " [1 1 2 1 0 1 1 1 0 1]\n",
      " [1 0 1 2 1 1 0 1 1 2]\n",
      " [1 1 1 1 1 0 1 1 1 1]\n",
      " [2 0 1 1 1 1 1 1 0 1]\n",
      " [1 1 1 1 1 1 1 1 1 1]\n",
      " [1 1 0 2 1 1 2 1 2 0]]\n",
      "(10, 10)\n"
     ]
    }
   ],
   "source": [
    "from mazeData import makeMaze\n",
    "\n",
    "n = 10\n",
    "a = makeMaze(n)\n",
    "print(a)\n",
    "print(a.shape)\n",
    "\n",
    "# 0s represent walls.\n",
    "# 1s represent free spaces.\n",
    "# 2s represent food."
   ]
  },
  {
   "cell_type": "code",
   "execution_count": 87,
   "metadata": {},
   "outputs": [
    {
     "data": {
      "image/png": "[encoded data removed]",
      "text/plain": [
       "<Figure size 640x480 with 1 Axes>"
      ]
     },
     "metadata": {},
     "output_type": "display_data"
    }
   ],
   "source": [
    "import matplotlib.pyplot as plt\n",
    "import matplotlib.patches as patches\n",
    "import seaborn as sns\n",
    "import numpy as np\n",
    "from matplotlib.colors import ListedColormap\n",
    "\n",
    "def draw_maze(maze):\n",
    "    fig, ax = plt.subplots()\n",
    "    colors = sns.color_palette('coolwarm', len(np.unique(maze)))\n",
    "    #print(colors)\n",
    "    cmap = ListedColormap(colors)\n",
    "    sns.heatmap(maze, cmap=cmap, annot=False, cbar=False)\n",
    "    for i in range(maze.shape[0]):\n",
    "      for j in range(maze.shape[1]):\n",
    "        rect=patches.Rectangle((j, i), 1, 1, fill=False, edgecolor='yellow', lw=2)\n",
    "        ax.add_patch(rect)\n",
    "        #plt.gca().add_patch(patches.Rectangle((j, i), 1, 1, fill=False, edgecolor='yellow', lw=2))\n",
    "        if i==0 and j==0:\n",
    "            rect=patches.Rectangle((j, i), 1, 1, fill=True, color='pink')\n",
    "            ax.add_patch(rect)\n",
    "        if i==maze.shape[0]-1 and j==maze.shape[1]-1:\n",
    "            rect=patches.Rectangle((j, i), 1, 1, fill=True, color='green')\n",
    "            ax.add_patch(rect)\n",
    "\n",
    "    plt.show()\n",
    "\n",
    "draw_maze(a)"
   ]
  },
  {
   "cell_type": "code",
   "execution_count": 88,
   "metadata": {},
   "outputs": [
    {
     "data": {
      "text/plain": [
       "{(0, 0): ['right', 'down'],\n",
       " (0, 1): ['left', 'down'],\n",
       " (0, 2): [],\n",
       " (0, 3): ['right', 'down'],\n",
       " (0, 4): ['left', 'right', 'down'],\n",
       " (0, 5): ['left', 'right'],\n",
       " (0, 6): ['left', 'right', 'down'],\n",
       " (0, 7): ['left', 'down'],\n",
       " (0, 8): [],\n",
       " (0, 9): [],\n",
       " (1, 0): ['up', 'right', 'down'],\n",
       " (1, 1): ['left', 'up', 'right'],\n",
       " (1, 2): ['left', 'right', 'down'],\n",
       " (1, 3): ['left', 'up', 'right', 'down'],\n",
       " (1, 4): ['left', 'up', 'down'],\n",
       " (1, 5): [],\n",
       " (1, 6): ['up', 'right', 'down'],\n",
       " (1, 7): ['left', 'up', 'right', 'down'],\n",
       " (1, 8): ['left', 'down'],\n",
       " (1, 9): [],\n",
       " (2, 0): ['up', 'down'],\n",
       " (2, 1): [],\n",
       " (2, 2): ['up', 'right', 'down'],\n",
       " (2, 3): ['left', 'up', 'right', 'down'],\n",
       " (2, 4): ['left', 'up', 'right'],\n",
       " (2, 5): ['left', 'right', 'down'],\n",
       " (2, 6): ['left', 'up', 'right', 'down'],\n",
       " (2, 7): ['left', 'up', 'right', 'down'],\n",
       " (2, 8): ['left', 'up', 'down'],\n",
       " (2, 9): [],\n",
       " (3, 0): ['up', 'down'],\n",
       " (3, 1): [],\n",
       " (3, 2): ['up', 'right', 'down'],\n",
       " (3, 3): ['left', 'up', 'down'],\n",
       " (3, 4): [],\n",
       " (3, 5): ['up', 'right', 'down'],\n",
       " (3, 6): ['left', 'up', 'right', 'down'],\n",
       " (3, 7): ['left', 'up', 'right', 'down'],\n",
       " (3, 8): ['left', 'up', 'right'],\n",
       " (3, 9): ['left', 'down'],\n",
       " (4, 0): ['up', 'right', 'down'],\n",
       " (4, 1): ['left', 'right'],\n",
       " (4, 2): ['left', 'up', 'right', 'down'],\n",
       " (4, 3): ['left', 'up', 'down'],\n",
       " (4, 4): [],\n",
       " (4, 5): ['up', 'right', 'down'],\n",
       " (4, 6): ['left', 'up', 'right'],\n",
       " (4, 7): ['left', 'up', 'down'],\n",
       " (4, 8): [],\n",
       " (4, 9): ['up', 'down'],\n",
       " (5, 0): ['up', 'down'],\n",
       " (5, 1): [],\n",
       " (5, 2): ['up', 'right', 'down'],\n",
       " (5, 3): ['left', 'up', 'right', 'down'],\n",
       " (5, 4): ['left', 'right', 'down'],\n",
       " (5, 5): ['left', 'up'],\n",
       " (5, 6): [],\n",
       " (5, 7): ['up', 'right', 'down'],\n",
       " (5, 8): ['left', 'right', 'down'],\n",
       " (5, 9): ['left', 'up', 'down'],\n",
       " (6, 0): ['up', 'right', 'down'],\n",
       " (6, 1): ['left', 'right'],\n",
       " (6, 2): ['left', 'up', 'right', 'down'],\n",
       " (6, 3): ['left', 'up', 'right', 'down'],\n",
       " (6, 4): ['left', 'up', 'down'],\n",
       " (6, 5): [],\n",
       " (6, 6): ['right', 'down'],\n",
       " (6, 7): ['left', 'up', 'right', 'down'],\n",
       " (6, 8): ['left', 'up', 'right'],\n",
       " (6, 9): ['left', 'up', 'down'],\n",
       " (7, 0): ['up', 'down'],\n",
       " (7, 1): [],\n",
       " (7, 2): ['up', 'right', 'down'],\n",
       " (7, 3): ['left', 'up', 'right', 'down'],\n",
       " (7, 4): ['left', 'up', 'right', 'down'],\n",
       " (7, 5): ['left', 'right', 'down'],\n",
       " (7, 6): ['left', 'up', 'right', 'down'],\n",
       " (7, 7): ['left', 'up', 'down'],\n",
       " (7, 8): [],\n",
       " (7, 9): ['up', 'down'],\n",
       " (8, 0): ['up', 'right', 'down'],\n",
       " (8, 1): ['left', 'right', 'down'],\n",
       " (8, 2): ['left', 'up', 'right'],\n",
       " (8, 3): ['left', 'up', 'right', 'down'],\n",
       " (8, 4): ['left', 'up', 'right', 'down'],\n",
       " (8, 5): ['left', 'up', 'right', 'down'],\n",
       " (8, 6): ['left', 'up', 'right', 'down'],\n",
       " (8, 7): ['left', 'up', 'right', 'down'],\n",
       " (8, 8): ['left', 'right', 'down'],\n",
       " (8, 9): ['left', 'up'],\n",
       " (9, 0): ['up', 'right'],\n",
       " (9, 1): ['left', 'up'],\n",
       " (9, 2): [],\n",
       " (9, 3): ['up', 'right'],\n",
       " (9, 4): ['left', 'up', 'right'],\n",
       " (9, 5): ['left', 'up', 'right'],\n",
       " (9, 6): ['left', 'up', 'right'],\n",
       " (9, 7): ['left', 'up', 'right'],\n",
       " (9, 8): ['left', 'up'],\n",
       " (9, 9): []}"
      ]
     },
     "execution_count": 88,
     "metadata": {},
     "output_type": "execute_result"
    }
   ],
   "source": [
    "from mazeData import defineMazeAvailableActions\n",
    "\n",
    "mazeAvailableActs = defineMazeAvailableActions(a)\n",
    "mazeAvailableActs"
   ]
  },
  {
   "cell_type": "code",
   "execution_count": 89,
   "metadata": {},
   "outputs": [
    {
     "data": {
      "text/plain": [
       "{(0, 0): {'right': (0, 1), 'down': (1, 0)},\n",
       " (0, 1): {'left': (0, 0), 'down': (1, 1)},\n",
       " (0, 2): {},\n",
       " (0, 3): {'right': (0, 4), 'down': (1, 3)},\n",
       " (0, 4): {'left': (0, 3), 'right': (0, 5), 'down': (1, 4)},\n",
       " (0, 5): {'left': (0, 4), 'right': (0, 6)},\n",
       " (0, 6): {'left': (0, 5), 'right': (0, 7), 'down': (1, 6)},\n",
       " (0, 7): {'left': (0, 6), 'down': (1, 7)},\n",
       " (0, 8): {},\n",
       " (0, 9): {},\n",
       " (1, 0): {'up': (0, 0), 'right': (1, 1), 'down': (2, 0)},\n",
       " (1, 1): {'left': (1, 0), 'up': (0, 1), 'right': (1, 2)},\n",
       " (1, 2): {'left': (1, 1), 'right': (1, 3), 'down': (2, 2)},\n",
       " (1, 3): {'left': (1, 2), 'up': (0, 3), 'right': (1, 4), 'down': (2, 3)},\n",
       " (1, 4): {'left': (1, 3), 'up': (0, 4), 'down': (2, 4)},\n",
       " (1, 5): {},\n",
       " (1, 6): {'up': (0, 6), 'right': (1, 7), 'down': (2, 6)},\n",
       " (1, 7): {'left': (1, 6), 'up': (0, 7), 'right': (1, 8), 'down': (2, 7)},\n",
       " (1, 8): {'left': (1, 7), 'down': (2, 8)},\n",
       " (1, 9): {},\n",
       " (2, 0): {'up': (1, 0), 'down': (3, 0)},\n",
       " (2, 1): {},\n",
       " (2, 2): {'up': (1, 2), 'right': (2, 3), 'down': (3, 2)},\n",
       " (2, 3): {'left': (2, 2), 'up': (1, 3), 'right': (2, 4), 'down': (3, 3)},\n",
       " (2, 4): {'left': (2, 3), 'up': (1, 4), 'right': (2, 5)},\n",
       " (2, 5): {'left': (2, 4), 'right': (2, 6), 'down': (3, 5)},\n",
       " (2, 6): {'left': (2, 5), 'up': (1, 6), 'right': (2, 7), 'down': (3, 6)},\n",
       " (2, 7): {'left': (2, 6), 'up': (1, 7), 'right': (2, 8), 'down': (3, 7)},\n",
       " (2, 8): {'left': (2, 7), 'up': (1, 8), 'down': (3, 8)},\n",
       " (2, 9): {},\n",
       " (3, 0): {'up': (2, 0), 'down': (4, 0)},\n",
       " (3, 1): {},\n",
       " (3, 2): {'up': (2, 2), 'right': (3, 3), 'down': (4, 2)},\n",
       " (3, 3): {'left': (3, 2), 'up': (2, 3), 'down': (4, 3)},\n",
       " (3, 4): {},\n",
       " (3, 5): {'up': (2, 5), 'right': (3, 6), 'down': (4, 5)},\n",
       " (3, 6): {'left': (3, 5), 'up': (2, 6), 'right': (3, 7), 'down': (4, 6)},\n",
       " (3, 7): {'left': (3, 6), 'up': (2, 7), 'right': (3, 8), 'down': (4, 7)},\n",
       " (3, 8): {'left': (3, 7), 'up': (2, 8), 'right': (3, 9)},\n",
       " (3, 9): {'left': (3, 8), 'down': (4, 9)},\n",
       " (4, 0): {'up': (3, 0), 'right': (4, 1), 'down': (5, 0)},\n",
       " (4, 1): {'left': (4, 0), 'right': (4, 2)},\n",
       " (4, 2): {'left': (4, 1), 'up': (3, 2), 'right': (4, 3), 'down': (5, 2)},\n",
       " (4, 3): {'left': (4, 2), 'up': (3, 3), 'down': (5, 3)},\n",
       " (4, 4): {},\n",
       " (4, 5): {'up': (3, 5), 'right': (4, 6), 'down': (5, 5)},\n",
       " (4, 6): {'left': (4, 5), 'up': (3, 6), 'right': (4, 7)},\n",
       " (4, 7): {'left': (4, 6), 'up': (3, 7), 'down': (5, 7)},\n",
       " (4, 8): {},\n",
       " (4, 9): {'up': (3, 9), 'down': (5, 9)},\n",
       " (5, 0): {'up': (4, 0), 'down': (6, 0)},\n",
       " (5, 1): {},\n",
       " (5, 2): {'up': (4, 2), 'right': (5, 3), 'down': (6, 2)},\n",
       " (5, 3): {'left': (5, 2), 'up': (4, 3), 'right': (5, 4), 'down': (6, 3)},\n",
       " (5, 4): {'left': (5, 3), 'right': (5, 5), 'down': (6, 4)},\n",
       " (5, 5): {'left': (5, 4), 'up': (4, 5)},\n",
       " (5, 6): {},\n",
       " (5, 7): {'up': (4, 7), 'right': (5, 8), 'down': (6, 7)},\n",
       " (5, 8): {'left': (5, 7), 'right': (5, 9), 'down': (6, 8)},\n",
       " (5, 9): {'left': (5, 8), 'up': (4, 9), 'down': (6, 9)},\n",
       " (6, 0): {'up': (5, 0), 'right': (6, 1), 'down': (7, 0)},\n",
       " (6, 1): {'left': (6, 0), 'right': (6, 2)},\n",
       " (6, 2): {'left': (6, 1), 'up': (5, 2), 'right': (6, 3), 'down': (7, 2)},\n",
       " (6, 3): {'left': (6, 2), 'up': (5, 3), 'right': (6, 4), 'down': (7, 3)},\n",
       " (6, 4): {'left': (6, 3), 'up': (5, 4), 'down': (7, 4)},\n",
       " (6, 5): {},\n",
       " (6, 6): {'right': (6, 7), 'down': (7, 6)},\n",
       " (6, 7): {'left': (6, 6), 'up': (5, 7), 'right': (6, 8), 'down': (7, 7)},\n",
       " (6, 8): {'left': (6, 7), 'up': (5, 8), 'right': (6, 9)},\n",
       " (6, 9): {'left': (6, 8), 'up': (5, 9), 'down': (7, 9)},\n",
       " (7, 0): {'up': (6, 0), 'down': (8, 0)},\n",
       " (7, 1): {},\n",
       " (7, 2): {'up': (6, 2), 'right': (7, 3), 'down': (8, 2)},\n",
       " (7, 3): {'left': (7, 2), 'up': (6, 3), 'right': (7, 4), 'down': (8, 3)},\n",
       " (7, 4): {'left': (7, 3), 'up': (6, 4), 'right': (7, 5), 'down': (8, 4)},\n",
       " (7, 5): {'left': (7, 4), 'right': (7, 6), 'down': (8, 5)},\n",
       " (7, 6): {'left': (7, 5), 'up': (6, 6), 'right': (7, 7), 'down': (8, 6)},\n",
       " (7, 7): {'left': (7, 6), 'up': (6, 7), 'down': (8, 7)},\n",
       " (7, 8): {},\n",
       " (7, 9): {'up': (6, 9), 'down': (8, 9)},\n",
       " (8, 0): {'up': (7, 0), 'right': (8, 1), 'down': (9, 0)},\n",
       " (8, 1): {'left': (8, 0), 'right': (8, 2), 'down': (9, 1)},\n",
       " (8, 2): {'left': (8, 1), 'up': (7, 2), 'right': (8, 3)},\n",
       " (8, 3): {'left': (8, 2), 'up': (7, 3), 'right': (8, 4), 'down': (9, 3)},\n",
       " (8, 4): {'left': (8, 3), 'up': (7, 4), 'right': (8, 5), 'down': (9, 4)},\n",
       " (8, 5): {'left': (8, 4), 'up': (7, 5), 'right': (8, 6), 'down': (9, 5)},\n",
       " (8, 6): {'left': (8, 5), 'up': (7, 6), 'right': (8, 7), 'down': (9, 6)},\n",
       " (8, 7): {'left': (8, 6), 'up': (7, 7), 'right': (8, 8), 'down': (9, 7)},\n",
       " (8, 8): {'left': (8, 7), 'right': (8, 9), 'down': (9, 8)},\n",
       " (8, 9): {'left': (8, 8), 'up': (7, 9)},\n",
       " (9, 0): {'up': (8, 0), 'right': (9, 1)},\n",
       " (9, 1): {'left': (9, 0), 'up': (8, 1)},\n",
       " (9, 2): {},\n",
       " (9, 3): {'up': (8, 3), 'right': (9, 4)},\n",
       " (9, 4): {'left': (9, 3), 'up': (8, 4), 'right': (9, 5)},\n",
       " (9, 5): {'left': (9, 4), 'up': (8, 5), 'right': (9, 6)},\n",
       " (9, 6): {'left': (9, 5), 'up': (8, 6), 'right': (9, 7)},\n",
       " (9, 7): {'left': (9, 6), 'up': (8, 7), 'right': (9, 8)},\n",
       " (9, 8): {'left': (9, 7), 'up': (8, 8)},\n",
       " (9, 9): {}}"
      ]
     },
     "execution_count": 89,
     "metadata": {},
     "output_type": "execute_result"
    }
   ],
   "source": [
    "from mazeData import makeMazeTransformationModel\n",
    "\n",
    "maze = makeMazeTransformationModel(mazeAvailableActs)\n",
    "maze"
   ]
  },
  {
   "cell_type": "code",
   "execution_count": 90,
   "metadata": {},
   "outputs": [
    {
     "data": {
      "text/plain": [
       "{(0, 0): {'right': (0, 1), 'down': (1, 0)},\n",
       " (0, 1): {'left': (0, 0), 'down': (1, 1)},\n",
       " (0, 2): {},\n",
       " (0, 3): {'right': (0, 4), 'down': (1, 3)},\n",
       " (0, 4): {'left': (0, 3), 'right': (0, 5), 'down': (1, 4)},\n",
       " (0, 5): {'left': (0, 4), 'right': (0, 6)},\n",
       " (0, 6): {'left': (0, 5), 'right': (0, 7), 'down': (1, 6)},\n",
       " (0, 7): {'left': (0, 6), 'down': (1, 7)},\n",
       " (0, 8): {},\n",
       " (0, 9): {},\n",
       " (1, 0): {'up': (0, 0), 'right': (1, 1), 'down': (2, 0)},\n",
       " (1, 1): {'left': (1, 0), 'up': (0, 1), 'right': (1, 2)},\n",
       " (1, 2): {'left': (1, 1), 'right': (1, 3), 'down': (2, 2)},\n",
       " (1, 3): {'left': (1, 2), 'up': (0, 3), 'right': (1, 4), 'down': (2, 3)},\n",
       " (1, 4): {'left': (1, 3), 'up': (0, 4), 'down': (2, 4)},\n",
       " (1, 5): {},\n",
       " (1, 6): {'up': (0, 6), 'right': (1, 7), 'down': (2, 6)},\n",
       " (1, 7): {'left': (1, 6), 'up': (0, 7), 'right': (1, 8), 'down': (2, 7)},\n",
       " (1, 8): {'left': (1, 7), 'down': (2, 8)},\n",
       " (1, 9): {},\n",
       " (2, 0): {'up': (1, 0), 'down': (3, 0)},\n",
       " (2, 1): {},\n",
       " (2, 2): {'up': (1, 2), 'right': (2, 3), 'down': (3, 2)},\n",
       " (2, 3): {'left': (2, 2), 'up': (1, 3), 'right': (2, 4), 'down': (3, 3)},\n",
       " (2, 4): {'left': (2, 3), 'up': (1, 4), 'right': (2, 5)},\n",
       " (2, 5): {'left': (2, 4), 'right': (2, 6), 'down': (3, 5)},\n",
       " (2, 6): {'left': (2, 5), 'up': (1, 6), 'right': (2, 7), 'down': (3, 6)},\n",
       " (2, 7): {'left': (2, 6), 'up': (1, 7), 'right': (2, 8), 'down': (3, 7)},\n",
       " (2, 8): {'left': (2, 7), 'up': (1, 8), 'down': (3, 8)},\n",
       " (2, 9): {},\n",
       " (3, 0): {'up': (2, 0), 'down': (4, 0)},\n",
       " (3, 1): {},\n",
       " (3, 2): {'up': (2, 2), 'right': (3, 3), 'down': (4, 2)},\n",
       " (3, 3): {'left': (3, 2), 'up': (2, 3), 'down': (4, 3)},\n",
       " (3, 4): {},\n",
       " (3, 5): {'up': (2, 5), 'right': (3, 6), 'down': (4, 5)},\n",
       " (3, 6): {'left': (3, 5), 'up': (2, 6), 'right': (3, 7), 'down': (4, 6)},\n",
       " (3, 7): {'left': (3, 6), 'up': (2, 7), 'right': (3, 8), 'down': (4, 7)},\n",
       " (3, 8): {'left': (3, 7), 'up': (2, 8), 'right': (3, 9)},\n",
       " (3, 9): {'left': (3, 8), 'down': (4, 9)},\n",
       " (4, 0): {'up': (3, 0), 'right': (4, 1), 'down': (5, 0)},\n",
       " (4, 1): {'left': (4, 0), 'right': (4, 2)},\n",
       " (4, 2): {'left': (4, 1), 'up': (3, 2), 'right': (4, 3), 'down': (5, 2)},\n",
       " (4, 3): {'left': (4, 2), 'up': (3, 3), 'down': (5, 3)},\n",
       " (4, 4): {},\n",
       " (4, 5): {'up': (3, 5), 'right': (4, 6), 'down': (5, 5)},\n",
       " (4, 6): {'left': (4, 5), 'up': (3, 6), 'right': (4, 7)},\n",
       " (4, 7): {'left': (4, 6), 'up': (3, 7), 'down': (5, 7)},\n",
       " (4, 8): {},\n",
       " (4, 9): {'up': (3, 9), 'down': (5, 9)},\n",
       " (5, 0): {'up': (4, 0), 'down': (6, 0)},\n",
       " (5, 1): {},\n",
       " (5, 2): {'up': (4, 2), 'right': (5, 3), 'down': (6, 2)},\n",
       " (5, 3): {'left': (5, 2), 'up': (4, 3), 'right': (5, 4), 'down': (6, 3)},\n",
       " (5, 4): {'left': (5, 3), 'right': (5, 5), 'down': (6, 4)},\n",
       " (5, 5): {'left': (5, 4), 'up': (4, 5)},\n",
       " (5, 6): {},\n",
       " (5, 7): {'up': (4, 7), 'right': (5, 8), 'down': (6, 7)},\n",
       " (5, 8): {'left': (5, 7), 'right': (5, 9), 'down': (6, 8)},\n",
       " (5, 9): {'left': (5, 8), 'up': (4, 9), 'down': (6, 9)},\n",
       " (6, 0): {'up': (5, 0), 'right': (6, 1), 'down': (7, 0)},\n",
       " (6, 1): {'left': (6, 0), 'right': (6, 2)},\n",
       " (6, 2): {'left': (6, 1), 'up': (5, 2), 'right': (6, 3), 'down': (7, 2)},\n",
       " (6, 3): {'left': (6, 2), 'up': (5, 3), 'right': (6, 4), 'down': (7, 3)},\n",
       " (6, 4): {'left': (6, 3), 'up': (5, 4), 'down': (7, 4)},\n",
       " (6, 5): {},\n",
       " (6, 6): {'right': (6, 7), 'down': (7, 6)},\n",
       " (6, 7): {'left': (6, 6), 'up': (5, 7), 'right': (6, 8), 'down': (7, 7)},\n",
       " (6, 8): {'left': (6, 7), 'up': (5, 8), 'right': (6, 9)},\n",
       " (6, 9): {'left': (6, 8), 'up': (5, 9), 'down': (7, 9)},\n",
       " (7, 0): {'up': (6, 0), 'down': (8, 0)},\n",
       " (7, 1): {},\n",
       " (7, 2): {'up': (6, 2), 'right': (7, 3), 'down': (8, 2)},\n",
       " (7, 3): {'left': (7, 2), 'up': (6, 3), 'right': (7, 4), 'down': (8, 3)},\n",
       " (7, 4): {'left': (7, 3), 'up': (6, 4), 'right': (7, 5), 'down': (8, 4)},\n",
       " (7, 5): {'left': (7, 4), 'right': (7, 6), 'down': (8, 5)},\n",
       " (7, 6): {'left': (7, 5), 'up': (6, 6), 'right': (7, 7), 'down': (8, 6)},\n",
       " (7, 7): {'left': (7, 6), 'up': (6, 7), 'down': (8, 7)},\n",
       " (7, 8): {},\n",
       " (7, 9): {'up': (6, 9), 'down': (8, 9)},\n",
       " (8, 0): {'up': (7, 0), 'right': (8, 1), 'down': (9, 0)},\n",
       " (8, 1): {'left': (8, 0), 'right': (8, 2), 'down': (9, 1)},\n",
       " (8, 2): {'left': (8, 1), 'up': (7, 2), 'right': (8, 3)},\n",
       " (8, 3): {'left': (8, 2), 'up': (7, 3), 'right': (8, 4), 'down': (9, 3)},\n",
       " (8, 4): {'left': (8, 3), 'up': (7, 4), 'right': (8, 5), 'down': (9, 4)},\n",
       " (8, 5): {'left': (8, 4), 'up': (7, 5), 'right': (8, 6), 'down': (9, 5)},\n",
       " (8, 6): {'left': (8, 5), 'up': (7, 6), 'right': (8, 7), 'down': (9, 6)},\n",
       " (8, 7): {'left': (8, 6), 'up': (7, 7), 'right': (8, 8), 'down': (9, 7)},\n",
       " (8, 8): {'left': (8, 7), 'right': (8, 9), 'down': (9, 8)},\n",
       " (8, 9): {'left': (8, 8), 'up': (7, 9)},\n",
       " (9, 0): {'up': (8, 0), 'right': (9, 1)},\n",
       " (9, 1): {'left': (9, 0), 'up': (8, 1)},\n",
       " (9, 2): {},\n",
       " (9, 3): {'up': (8, 3), 'right': (9, 4)},\n",
       " (9, 4): {'left': (9, 3), 'up': (8, 4), 'right': (9, 5)},\n",
       " (9, 5): {'left': (9, 4), 'up': (8, 5), 'right': (9, 6)},\n",
       " (9, 6): {'left': (9, 5), 'up': (8, 6), 'right': (9, 7)},\n",
       " (9, 7): {'left': (9, 6), 'up': (8, 7), 'right': (9, 8)},\n",
       " (9, 8): {'left': (9, 7), 'up': (8, 8)},\n",
       " (9, 9): {}}"
      ]
     },
     "execution_count": 90,
     "metadata": {},
     "output_type": "execute_result"
    }
   ],
   "source": [
    "from mazeGraphClass import mazeGraph\n",
    "\n",
    "mazeWorldGraph = mazeGraph(maze)\n",
    "mazeWorldGraph.graph_dict"
   ]
  },
  {
   "cell_type": "code",
   "execution_count": 91,
   "metadata": {},
   "outputs": [
    {
     "data": {
      "text/plain": [
       "{(0, 0): {(0, 1): 2, (1, 0): 1},\n",
       " (0, 1): {(0, 0): 2, (1, 1): 1},\n",
       " (0, 3): {(0, 4): 2, (1, 3): 1},\n",
       " (0, 4): {(0, 3): 2, (0, 5): 2, (1, 4): 1},\n",
       " (0, 5): {(0, 4): 2, (0, 6): 2},\n",
       " (0, 6): {(0, 5): 2, (0, 7): 2, (1, 6): 1},\n",
       " (0, 7): {(0, 6): 2, (1, 7): 1},\n",
       " (1, 0): {(0, 0): 3, (1, 1): 2, (2, 0): 1},\n",
       " (1, 1): {(1, 0): 2, (0, 1): 3, (1, 2): 2},\n",
       " (1, 2): {(1, 1): 2, (1, 3): 2, (2, 2): 1},\n",
       " (1, 3): {(1, 2): 2, (0, 3): 3, (1, 4): 2, (2, 3): 1},\n",
       " (1, 4): {(1, 3): 2, (0, 4): 3, (2, 4): 1},\n",
       " (1, 6): {(0, 6): 3, (1, 7): 2, (2, 6): 1},\n",
       " (1, 7): {(1, 6): 2, (0, 7): 3, (1, 8): 2, (2, 7): 1},\n",
       " (1, 8): {(1, 7): 2, (2, 8): 1},\n",
       " (2, 0): {(1, 0): 3, (3, 0): 1},\n",
       " (2, 2): {(1, 2): 3, (2, 3): 2, (3, 2): 1},\n",
       " (2, 3): {(2, 2): 2, (1, 3): 3, (2, 4): 2, (3, 3): 1},\n",
       " (2, 4): {(2, 3): 2, (1, 4): 3, (2, 5): 2},\n",
       " (2, 5): {(2, 4): 2, (2, 6): 2, (3, 5): 1},\n",
       " (2, 6): {(2, 5): 2, (1, 6): 3, (2, 7): 2, (3, 6): 1},\n",
       " (2, 7): {(2, 6): 2, (1, 7): 3, (2, 8): 2, (3, 7): 1},\n",
       " (2, 8): {(2, 7): 2, (1, 8): 3, (3, 8): 1},\n",
       " (3, 0): {(2, 0): 3, (4, 0): 1},\n",
       " (3, 2): {(2, 2): 3, (3, 3): 2, (4, 2): 1},\n",
       " (3, 3): {(3, 2): 2, (2, 3): 3, (4, 3): 1},\n",
       " (3, 5): {(2, 5): 3, (3, 6): 2, (4, 5): 1},\n",
       " (3, 6): {(3, 5): 2, (2, 6): 3, (3, 7): 2, (4, 6): 1},\n",
       " (3, 7): {(3, 6): 2, (2, 7): 3, (3, 8): 2, (4, 7): 1},\n",
       " (3, 8): {(3, 7): 2, (2, 8): 3, (3, 9): 2},\n",
       " (3, 9): {(3, 8): 2, (4, 9): 1},\n",
       " (4, 0): {(3, 0): 3, (4, 1): 2, (5, 0): 1},\n",
       " (4, 1): {(4, 0): 2, (4, 2): 2},\n",
       " (4, 2): {(4, 1): 2, (3, 2): 3, (4, 3): 2, (5, 2): 1},\n",
       " (4, 3): {(4, 2): 2, (3, 3): 3, (5, 3): 1},\n",
       " (4, 5): {(3, 5): 3, (4, 6): 2, (5, 5): 1},\n",
       " (4, 6): {(4, 5): 2, (3, 6): 3, (4, 7): 2},\n",
       " (4, 7): {(4, 6): 2, (3, 7): 3, (5, 7): 1},\n",
       " (4, 9): {(3, 9): 3, (5, 9): 1},\n",
       " (5, 0): {(4, 0): 3, (6, 0): 1},\n",
       " (5, 2): {(4, 2): 3, (5, 3): 2, (6, 2): 1},\n",
       " (5, 3): {(5, 2): 2, (4, 3): 3, (5, 4): 2, (6, 3): 1},\n",
       " (5, 4): {(5, 3): 2, (5, 5): 2, (6, 4): 1},\n",
       " (5, 5): {(5, 4): 2, (4, 5): 3},\n",
       " (5, 7): {(4, 7): 3, (5, 8): 2, (6, 7): 1},\n",
       " (5, 8): {(5, 7): 2, (5, 9): 2, (6, 8): 1},\n",
       " (5, 9): {(5, 8): 2, (4, 9): 3, (6, 9): 1},\n",
       " (6, 0): {(5, 0): 3, (6, 1): 2, (7, 0): 1},\n",
       " (6, 1): {(6, 0): 2, (6, 2): 2},\n",
       " (6, 2): {(6, 1): 2, (5, 2): 3, (6, 3): 2, (7, 2): 1},\n",
       " (6, 3): {(6, 2): 2, (5, 3): 3, (6, 4): 2, (7, 3): 1},\n",
       " (6, 4): {(6, 3): 2, (5, 4): 3, (7, 4): 1},\n",
       " (6, 6): {(6, 7): 2, (7, 6): 1},\n",
       " (6, 7): {(6, 6): 2, (5, 7): 3, (6, 8): 2, (7, 7): 1},\n",
       " (6, 8): {(6, 7): 2, (5, 8): 3, (6, 9): 2},\n",
       " (6, 9): {(6, 8): 2, (5, 9): 3, (7, 9): 1},\n",
       " (7, 0): {(6, 0): 3, (8, 0): 1},\n",
       " (7, 2): {(6, 2): 3, (7, 3): 2, (8, 2): 1},\n",
       " (7, 3): {(7, 2): 2, (6, 3): 3, (7, 4): 2, (8, 3): 1},\n",
       " (7, 4): {(7, 3): 2, (6, 4): 3, (7, 5): 2, (8, 4): 1},\n",
       " (7, 5): {(7, 4): 2, (7, 6): 2, (8, 5): 1},\n",
       " (7, 6): {(7, 5): 2, (6, 6): 3, (7, 7): 2, (8, 6): 1},\n",
       " (7, 7): {(7, 6): 2, (6, 7): 3, (8, 7): 1},\n",
       " (7, 9): {(6, 9): 3, (8, 9): 1},\n",
       " (8, 0): {(7, 0): 3, (8, 1): 2, (9, 0): 1},\n",
       " (8, 1): {(8, 0): 2, (8, 2): 2, (9, 1): 1},\n",
       " (8, 2): {(8, 1): 2, (7, 2): 3, (8, 3): 2},\n",
       " (8, 3): {(8, 2): 2, (7, 3): 3, (8, 4): 2, (9, 3): 1},\n",
       " (8, 4): {(8, 3): 2, (7, 4): 3, (8, 5): 2, (9, 4): 1},\n",
       " (8, 5): {(8, 4): 2, (7, 5): 3, (8, 6): 2, (9, 5): 1},\n",
       " (8, 6): {(8, 5): 2, (7, 6): 3, (8, 7): 2, (9, 6): 1},\n",
       " (8, 7): {(8, 6): 2, (7, 7): 3, (8, 8): 2, (9, 7): 1},\n",
       " (8, 8): {(8, 7): 2, (8, 9): 2, (9, 8): 1},\n",
       " (8, 9): {(8, 8): 2, (7, 9): 3},\n",
       " (9, 0): {(8, 0): 3, (9, 1): 2},\n",
       " (9, 1): {(9, 0): 2, (8, 1): 3},\n",
       " (9, 3): {(8, 3): 3, (9, 4): 2},\n",
       " (9, 4): {(9, 3): 2, (8, 4): 3, (9, 5): 2},\n",
       " (9, 5): {(9, 4): 2, (8, 5): 3, (9, 6): 2},\n",
       " (9, 6): {(9, 5): 2, (8, 6): 3, (9, 7): 2},\n",
       " (9, 7): {(9, 6): 2, (8, 7): 3, (9, 8): 2},\n",
       " (9, 8): {(9, 7): 2, (8, 8): 3}}"
      ]
     },
     "execution_count": 91,
     "metadata": {},
     "output_type": "execute_result"
    }
   ],
   "source": [
    "mazeWorldGraph.g"
   ]
  },
  {
   "cell_type": "code",
   "execution_count": 93,
   "metadata": {},
   "outputs": [
    {
     "name": "stdout",
     "output_type": "stream",
     "text": [
      "Initial State: (0, 0)\n",
      "Goal State(s): (np.int64(0), np.int64(5))\n"
     ]
    }
   ],
   "source": [
    "from mazeProblemClass import MazeProblem\n",
    "from mazeData import getFoodLocation\n",
    "\n",
    "initState, goalState = (0,0), getFoodLocation(a)\n",
    "print(\"Initial State: {}\".format(initState))\n",
    "print(\"Goal State(s): {}\".format(goalState))\n",
    "mp1 = MazeProblem(initState,goalState,mazeWorldGraph)"
   ]
  },
  {
   "cell_type": "code",
   "execution_count": 113,
   "metadata": {},
   "outputs": [
    {
     "name": "stdout",
     "output_type": "stream",
     "text": [
      "5.0\n",
      "5\n"
     ]
    }
   ],
   "source": [
    "from nodeClass import Node\n",
    "from manhattanDistance import *\n",
    "import math\n",
    "\n",
    "node = Node(mp1.initial)\n",
    "print(node.path_cost+round(math.dist(node.state, mp1.goal),2))#Find the Euclidean distance between one and two dimensional points:\n",
    "print(node.path_cost+manhattanDistance.calc(node.state, mp1.goal))#Find the Manhattan distance between one and two dimensional points:"
   ]
  },
  {
   "cell_type": "code",
   "execution_count": 115,
   "metadata": {},
   "outputs": [
    {
     "name": "stdout",
     "output_type": "stream",
     "text": [
      "[(5.0, <Node (0, 0)>)]\n",
      "The node (0, 0) is extracted from frontier:\n",
      "The child node <Node (0, 1)>.\n",
      "The child node <Node (1, 0)>.\n",
      "Current node has 2 child nodes (expansions).\n",
      "[(6.0, <Node (0, 1)>), (6.099, <Node (1, 0)>)]\n",
      "The node (0, 1) is extracted from frontier:\n",
      "The child node <Node (1, 1)>.\n",
      "Current node has 1 child nodes (expansions).\n",
      "[(6.099, <Node (1, 0)>), (7.123, <Node (1, 1)>)]\n",
      "The node (1, 0) is extracted from frontier:\n",
      "The child node <Node (2, 0)>.\n",
      "Current node has 1 child nodes (expansions).\n",
      "[(7.123, <Node (1, 1)>), (7.385, <Node (2, 0)>)]\n",
      "The node (1, 1) is extracted from frontier:\n",
      "The child node <Node (1, 2)>.\n",
      "Current node has 1 child nodes (expansions).\n",
      "[(7.385, <Node (2, 0)>), (8.161999999999999, <Node (1, 2)>)]\n",
      "The node (2, 0) is extracted from frontier:\n",
      "The child node <Node (3, 0)>.\n",
      "Current node has 1 child nodes (expansions).\n",
      "[(8.161999999999999, <Node (1, 2)>), (8.831, <Node (3, 0)>)]\n",
      "The node (1, 2) is extracted from frontier:\n",
      "The child node <Node (1, 3)>.\n",
      "The child node <Node (2, 2)>.\n",
      "Current node has 2 child nodes (expansions).\n",
      "[(8.831, <Node (3, 0)>), (9.236, <Node (1, 3)>), (9.606, <Node (2, 2)>)]\n",
      "The node (3, 0) is extracted from frontier:\n",
      "The child node <Node (4, 0)>.\n",
      "Current node has 1 child nodes (expansions).\n",
      "[(9.236, <Node (1, 3)>), (9.606, <Node (2, 2)>), (10.402999999999999, <Node (4, 0)>)]\n",
      "The node (1, 3) is extracted from frontier:\n",
      "The child node <Node (0, 3)>.\n",
      "The child node <Node (1, 4)>.\n",
      "The child node <Node (2, 3)>.\n",
      "Current node has 3 child nodes (expansions).\n",
      "[(9.606, <Node (2, 2)>), (10.402999999999999, <Node (4, 0)>), (12.0, <Node (0, 3)>), (10.414, <Node (1, 4)>), (10.828, <Node (2, 3)>)]\n",
      "The node (2, 2) is extracted from frontier:\n",
      "The child node <Node (3, 2)>.\n",
      "Current node has 1 child nodes (expansions).\n",
      "[(10.402999999999999, <Node (4, 0)>), (10.414, <Node (1, 4)>), (12.0, <Node (0, 3)>), (10.828, <Node (2, 3)>), (11.243, <Node (3, 2)>)]\n",
      "The node (4, 0) is extracted from frontier:\n",
      "The child node <Node (4, 1)>.\n",
      "The child node <Node (5, 0)>.\n",
      "Current node has 2 child nodes (expansions).\n",
      "[(10.414, <Node (1, 4)>), (10.828, <Node (2, 3)>), (12.0, <Node (0, 3)>), (11.243, <Node (3, 2)>), (11.657, <Node (4, 1)>), (12.071, <Node (5, 0)>)]\n",
      "The node (1, 4) is extracted from frontier:\n",
      "The child node <Node (0, 4)>.\n",
      "The child node <Node (2, 4)>.\n",
      "Current node has 2 child nodes (expansions).\n",
      "[(10.828, <Node (2, 3)>), (11.243, <Node (3, 2)>), (12.0, <Node (0, 3)>), (12.071, <Node (5, 0)>), (11.657, <Node (4, 1)>), (13.0, <Node (0, 4)>), (12.236, <Node (2, 4)>)]\n",
      "The node (2, 3) is extracted from frontier:\n",
      "The child node <Node (3, 3)>.\n",
      "Current node has 1 child nodes (expansions).\n",
      "[(11.243, <Node (3, 2)>), (11.657, <Node (4, 1)>), (12.0, <Node (0, 3)>), (12.071, <Node (5, 0)>), (12.236, <Node (2, 4)>), (13.0, <Node (0, 4)>), (12.606, <Node (3, 3)>)]\n",
      "The node (3, 2) is extracted from frontier:\n",
      "The child node <Node (4, 2)>.\n",
      "Current node has 1 child nodes (expansions).\n",
      "[(11.657, <Node (4, 1)>), (12.071, <Node (5, 0)>), (12.0, <Node (0, 3)>), (12.606, <Node (3, 3)>), (12.236, <Node (2, 4)>), (13.0, <Node (0, 4)>), (13.0, <Node (4, 2)>)]\n",
      "The node (4, 1) is extracted from frontier:\n",
      "Current node has 0 child nodes (expansions).\n",
      "[(12.0, <Node (0, 3)>), (12.071, <Node (5, 0)>), (13.0, <Node (0, 4)>), (12.606, <Node (3, 3)>), (12.236, <Node (2, 4)>), (13.0, <Node (4, 2)>)]\n",
      "The node (0, 3) is extracted from frontier:\n",
      "Current node has 0 child nodes (expansions).\n",
      "[(12.071, <Node (5, 0)>), (12.236, <Node (2, 4)>), (13.0, <Node (0, 4)>), (12.606, <Node (3, 3)>), (13.0, <Node (4, 2)>)]\n",
      "The node (5, 0) is extracted from frontier:\n",
      "The child node <Node (6, 0)>.\n",
      "Current node has 1 child nodes (expansions).\n",
      "[(12.236, <Node (2, 4)>), (12.606, <Node (3, 3)>), (13.0, <Node (0, 4)>), (13.0, <Node (4, 2)>), (13.809999999999999, <Node (6, 0)>)]\n",
      "The node (2, 4) is extracted from frontier:\n",
      "The child node <Node (2, 5)>.\n",
      "Current node has 1 child nodes (expansions).\n",
      "[(12.606, <Node (3, 3)>), (13.0, <Node (4, 2)>), (13.0, <Node (0, 4)>), (13.809999999999999, <Node (6, 0)>), (14.0, <Node (2, 5)>)]\n",
      "The node (3, 3) is extracted from frontier:\n",
      "The child node <Node (4, 3)>.\n",
      "Current node has 1 child nodes (expansions).\n",
      "[(13.0, <Node (0, 4)>), (13.0, <Node (4, 2)>), (14.0, <Node (2, 5)>), (13.809999999999999, <Node (6, 0)>), (14.472000000000001, <Node (4, 3)>)]\n",
      "The node (0, 4) is extracted from frontier:\n",
      "The child node <Node (0, 5)>.\n",
      "Current node has 1 child nodes (expansions).\n",
      "[(13.0, <Node (4, 2)>), (13.809999999999999, <Node (6, 0)>), (14.0, <Node (2, 5)>), (14.472000000000001, <Node (4, 3)>), (14.0, <Node (0, 5)>)]\n",
      "The node (4, 2) is extracted from frontier:\n",
      "The child node <Node (5, 2)>.\n",
      "Current node has 1 child nodes (expansions).\n",
      "[(13.809999999999999, <Node (6, 0)>), (14.0, <Node (0, 5)>), (14.0, <Node (2, 5)>), (14.472000000000001, <Node (4, 3)>), (14.831, <Node (5, 2)>)]\n",
      "The node (6, 0) is extracted from frontier:\n",
      "The child node <Node (6, 1)>.\n",
      "The child node <Node (7, 0)>.\n",
      "Current node has 2 child nodes (expansions).\n",
      "[(14.0, <Node (0, 5)>), (14.472000000000001, <Node (4, 3)>), (14.0, <Node (2, 5)>), (14.831, <Node (5, 2)>), (15.211, <Node (6, 1)>), (15.602, <Node (7, 0)>)]\n",
      "The node (0, 5) is extracted from frontier:\n",
      "We have found our goal: (0, 5)\n",
      "Total expansions: 26\n",
      "Total cost: 14.0\n"
     ]
    },
    {
     "data": {
      "text/plain": [
       "<Node (0, 5)>"
      ]
     },
     "execution_count": 115,
     "metadata": {},
     "output_type": "execute_result"
    }
   ],
   "source": [
    "#Task 1\n",
    "from agentsPrograms import A_StarSearchAgentProgram\n",
    "\n",
    "f1 = A_StarSearchAgentProgram(math.dist)\n",
    "f1(mp1)"
   ]
  },
  {
   "cell_type": "code",
   "execution_count": 116,
   "metadata": {},
   "outputs": [
    {
     "name": "stdout",
     "output_type": "stream",
     "text": [
      "[(np.int64(5), <Node (0, 0)>)]\n",
      "The node (0, 0) is extracted from frontier:\n",
      "The child node <Node (0, 1)>.\n",
      "The child node <Node (1, 0)>.\n",
      "Current node has 2 child nodes (expansions).\n",
      "[(np.int64(6), <Node (0, 1)>), (np.int64(7), <Node (1, 0)>)]\n",
      "The node (0, 1) is extracted from frontier:\n",
      "The child node <Node (1, 1)>.\n",
      "Current node has 1 child nodes (expansions).\n",
      "[(np.int64(7), <Node (1, 0)>), (np.int64(8), <Node (1, 1)>)]\n",
      "The node (1, 0) is extracted from frontier:\n",
      "The child node <Node (2, 0)>.\n",
      "Current node has 1 child nodes (expansions).\n",
      "[(np.int64(8), <Node (1, 1)>), (np.int64(9), <Node (2, 0)>)]\n",
      "The node (1, 1) is extracted from frontier:\n",
      "The child node <Node (1, 2)>.\n",
      "Current node has 1 child nodes (expansions).\n",
      "[(np.int64(9), <Node (1, 2)>), (np.int64(9), <Node (2, 0)>)]\n",
      "The node (1, 2) is extracted from frontier:\n",
      "The child node <Node (1, 3)>.\n",
      "The child node <Node (2, 2)>.\n",
      "Current node has 2 child nodes (expansions).\n",
      "[(np.int64(9), <Node (2, 0)>), (np.int64(10), <Node (1, 3)>), (np.int64(11), <Node (2, 2)>)]\n",
      "The node (2, 0) is extracted from frontier:\n",
      "The child node <Node (3, 0)>.\n",
      "Current node has 1 child nodes (expansions).\n",
      "[(np.int64(10), <Node (1, 3)>), (np.int64(11), <Node (2, 2)>), (np.int64(11), <Node (3, 0)>)]\n",
      "The node (1, 3) is extracted from frontier:\n",
      "The child node <Node (0, 3)>.\n",
      "The child node <Node (1, 4)>.\n",
      "The child node <Node (2, 3)>.\n",
      "Current node has 3 child nodes (expansions).\n",
      "[(np.int64(11), <Node (1, 4)>), (np.int64(11), <Node (2, 2)>), (np.int64(12), <Node (0, 3)>), (np.int64(11), <Node (3, 0)>), (np.int64(12), <Node (2, 3)>)]\n",
      "The node (1, 4) is extracted from frontier:\n",
      "The child node <Node (0, 4)>.\n",
      "The child node <Node (2, 4)>.\n",
      "Current node has 2 child nodes (expansions).\n",
      "[(np.int64(11), <Node (2, 2)>), (np.int64(11), <Node (3, 0)>), (np.int64(12), <Node (0, 3)>), (np.int64(12), <Node (2, 3)>), (np.int64(13), <Node (0, 4)>), (np.int64(13), <Node (2, 4)>)]\n",
      "The node (2, 2) is extracted from frontier:\n",
      "The child node <Node (3, 2)>.\n",
      "Current node has 1 child nodes (expansions).\n",
      "[(np.int64(11), <Node (3, 0)>), (np.int64(12), <Node (2, 3)>), (np.int64(12), <Node (0, 3)>), (np.int64(13), <Node (2, 4)>), (np.int64(13), <Node (0, 4)>), (np.int64(13), <Node (3, 2)>)]\n",
      "The node (3, 0) is extracted from frontier:\n",
      "The child node <Node (4, 0)>.\n",
      "Current node has 1 child nodes (expansions).\n",
      "[(np.int64(12), <Node (0, 3)>), (np.int64(12), <Node (2, 3)>), (np.int64(13), <Node (3, 2)>), (np.int64(13), <Node (2, 4)>), (np.int64(13), <Node (0, 4)>), (np.int64(13), <Node (4, 0)>)]\n",
      "The node (0, 3) is extracted from frontier:\n",
      "Current node has 0 child nodes (expansions).\n",
      "[(np.int64(12), <Node (2, 3)>), (np.int64(13), <Node (0, 4)>), (np.int64(13), <Node (3, 2)>), (np.int64(13), <Node (2, 4)>), (np.int64(13), <Node (4, 0)>)]\n",
      "The node (2, 3) is extracted from frontier:\n",
      "The child node <Node (3, 3)>.\n",
      "Current node has 1 child nodes (expansions).\n",
      "[(np.int64(13), <Node (0, 4)>), (np.int64(13), <Node (2, 4)>), (np.int64(13), <Node (3, 2)>), (np.int64(13), <Node (4, 0)>), (np.int64(14), <Node (3, 3)>)]\n",
      "The node (0, 4) is extracted from frontier:\n",
      "The child node <Node (0, 5)>.\n",
      "Current node has 1 child nodes (expansions).\n",
      "[(np.int64(13), <Node (2, 4)>), (np.int64(13), <Node (4, 0)>), (np.int64(13), <Node (3, 2)>), (np.int64(14), <Node (3, 3)>), (np.int64(14), <Node (0, 5)>)]\n",
      "The node (2, 4) is extracted from frontier:\n",
      "The child node <Node (2, 5)>.\n",
      "Current node has 1 child nodes (expansions).\n",
      "[(np.int64(13), <Node (3, 2)>), (np.int64(13), <Node (4, 0)>), (np.int64(14), <Node (0, 5)>), (np.int64(14), <Node (3, 3)>), (np.int64(14), <Node (2, 5)>)]\n",
      "The node (3, 2) is extracted from frontier:\n",
      "The child node <Node (4, 2)>.\n",
      "Current node has 1 child nodes (expansions).\n",
      "[(np.int64(13), <Node (4, 0)>), (np.int64(14), <Node (2, 5)>), (np.int64(14), <Node (0, 5)>), (np.int64(14), <Node (3, 3)>), (np.int64(15), <Node (4, 2)>)]\n",
      "The node (4, 0) is extracted from frontier:\n",
      "The child node <Node (4, 1)>.\n",
      "The child node <Node (5, 0)>.\n",
      "Current node has 2 child nodes (expansions).\n",
      "[(np.int64(14), <Node (0, 5)>), (np.int64(14), <Node (2, 5)>), (np.int64(15), <Node (4, 2)>), (np.int64(14), <Node (3, 3)>), (np.int64(14), <Node (4, 1)>), (np.int64(15), <Node (5, 0)>)]\n",
      "The node (0, 5) is extracted from frontier:\n",
      "We have found our goal: (0, 5)\n",
      "Total expansions: 21\n",
      "Total cost: 14\n"
     ]
    },
    {
     "data": {
      "text/plain": [
       "<Node (0, 5)>"
      ]
     },
     "execution_count": 116,
     "metadata": {},
     "output_type": "execute_result"
    }
   ],
   "source": [
    "#Task 2\n",
    "f2 = A_StarSearchAgentProgram(manhattanDistance.calc)\n",
    "f2(mp1)"
   ]
  },
  {
   "cell_type": "markdown",
   "metadata": {},
   "source": [
    "Task 3\n",
    "---"
   ]
  },
  {
   "cell_type": "code",
   "execution_count": 223,
   "metadata": {},
   "outputs": [
    {
     "name": "stdout",
     "output_type": "stream",
     "text": [
      "[[1 1 1 1 0 1 1 3 1 0]\n",
      " [2 1 1 1 1 3 1 1 1 0]\n",
      " [1 1 1 1 1 1 1 1 3 1]\n",
      " [2 1 1 2 0 1 1 0 1 1]\n",
      " [1 1 0 0 1 1 1 2 2 1]\n",
      " [1 3 1 2 1 1 2 1 2 1]\n",
      " [1 1 1 1 1 1 1 0 1 2]\n",
      " [2 1 1 1 1 0 1 0 1 0]\n",
      " [1 0 1 1 1 3 1 1 0 1]\n",
      " [1 0 1 0 1 0 1 0 1 1]]\n",
      "(10, 10)\n"
     ]
    }
   ],
   "source": [
    "from myMazeData import makeMaze\n",
    "\n",
    "n = 10\n",
    "a = makeMaze(n)\n",
    "print(a)\n",
    "print(a.shape)\n",
    "\n",
    "# 0s represent walls.\n",
    "# 1s represent free spaces.\n",
    "# 2s represent food.\n",
    "# 3s represent ghosts."
   ]
  },
  {
   "cell_type": "code",
   "execution_count": 148,
   "metadata": {},
   "outputs": [
    {
     "data": {
      "image/png": "[encoded data removed]",
      "text/plain": [
       "<Figure size 640x480 with 1 Axes>"
      ]
     },
     "metadata": {},
     "output_type": "display_data"
    }
   ],
   "source": [
    "import matplotlib.pyplot as plt\n",
    "import matplotlib.patches as patches\n",
    "import seaborn as sns\n",
    "import numpy as np\n",
    "from matplotlib.colors import ListedColormap\n",
    "\n",
    "def draw_maze(maze):\n",
    "    fig, ax = plt.subplots()\n",
    "    colors = sns.color_palette('coolwarm', len(np.unique(maze)))\n",
    "    #print(colors)\n",
    "    cmap = ListedColormap(colors)\n",
    "    sns.heatmap(maze, cmap=cmap, annot=False, cbar=False)\n",
    "    for i in range(maze.shape[0]):\n",
    "      for j in range(maze.shape[1]):\n",
    "        rect=patches.Rectangle((j, i), 1, 1, fill=False, edgecolor='yellow', lw=2)\n",
    "        ax.add_patch(rect)\n",
    "        #plt.gca().add_patch(patches.Rectangle((j, i), 1, 1, fill=False, edgecolor='yellow', lw=2))\n",
    "        if i==0 and j==0:\n",
    "            rect=patches.Rectangle((j, i), 1, 1, fill=True, color='pink')\n",
    "            ax.add_patch(rect)\n",
    "        if i==maze.shape[0]-1 and j==maze.shape[1]-1:\n",
    "            rect=patches.Rectangle((j, i), 1, 1, fill=True, color='green')\n",
    "            ax.add_patch(rect)\n",
    "\n",
    "    plt.show()\n",
    "\n",
    "draw_maze(a)"
   ]
  },
  {
   "cell_type": "code",
   "execution_count": 157,
   "metadata": {},
   "outputs": [],
   "source": [
    "# from myMazeData import defineMazeAvailableActions\n",
    "\n",
    "# mazeAvailableActs = defineMazeAvailableActions(a)\n",
    "# mazeAvailableActs"
   ]
  },
  {
   "cell_type": "code",
   "execution_count": 156,
   "metadata": {},
   "outputs": [],
   "source": [
    "# from myMazeData import makeMazeTransformationModel\n",
    "\n",
    "# maze = makeMazeTransformationModel(mazeAvailableActs)\n",
    "# maze"
   ]
  },
  {
   "cell_type": "code",
   "execution_count": 155,
   "metadata": {},
   "outputs": [],
   "source": [
    "# from mazeGraphClass import mazeGraph\n",
    "\n",
    "# mazeWorldGraph = mazeGraph(maze)\n",
    "# mazeWorldGraph.graph_dict"
   ]
  },
  {
   "cell_type": "code",
   "execution_count": 154,
   "metadata": {},
   "outputs": [],
   "source": [
    "# mazeWorldGraph.g"
   ]
  },
  {
   "cell_type": "markdown",
   "metadata": {},
   "source": [
    "Task 4\n",
    "---"
   ]
  },
  {
   "cell_type": "code",
   "execution_count": null,
   "metadata": {},
   "outputs": [],
   "source": []
  },
  {
   "cell_type": "markdown",
   "metadata": {},
   "source": [
    "Task 5\n",
    "---"
   ]
  },
  {
   "cell_type": "code",
   "execution_count": null,
   "metadata": {},
   "outputs": [],
   "source": []
  },
  {
   "cell_type": "markdown",
   "metadata": {},
   "source": [
    "Task 6\n",
    "---"
   ]
  },
  {
   "cell_type": "code",
   "execution_count": null,
   "metadata": {},
   "outputs": [],
   "source": []
  }
 ],
 "metadata": {
  "kernelspec": {
   "display_name": "Python 3",
   "language": "python",
   "name": "python3"
  },
  "language_info": {
   "codemirror_mode": {
    "name": "ipython",
    "version": 3
   },
   "file_extension": ".py",
   "mimetype": "text/x-python",
   "name": "python",
   "nbconvert_exporter": "python",
   "pygments_lexer": "ipython3",
   "version": "3.12.0"
  }
 },
 "nbformat": 4,
 "nbformat_minor": 2
}
