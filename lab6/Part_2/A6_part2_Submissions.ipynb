{
 "cells": [
  {
   "cell_type": "code",
   "execution_count": 1,
   "metadata": {},
   "outputs": [],
   "source": [
    "\n",
    "#1. Formulate the problem as a CSP problem.\n",
    "from utils import *\n",
    "\n",
    "\n",
    "variables = [0,1,2,3,4,5] #list of variables, representing the seats around the table\n",
    "dinnerproblemdomain = list('ABCDE_')  #domain of each variable is the same, representing the people\n",
    "\n",
    "dinnertable = \"0: 1 5; 1: 2; 2: 3; 3: 4; 4: 5; 5:\"\n",
    "\n"
   ]
  },
  {
   "cell_type": "code",
   "execution_count": null,
   "metadata": {},
   "outputs": [],
   "source": [
    "#2. Develop CSP implementation (based on CSP class)\n",
    "from CSPS import Dinner_CSP\n",
    "dinnerCSP = Dinner_CSP(dinnertable, dinnerproblemdomain)\n",
    "print(dinnerCSP.variables)\n",
    "print(dinnerCSP.domains)\n",
    "print(dinnerCSP.neighbors)\n",
    "print(dinnerCSP.constraints)\n"
   ]
  },
  {
   "cell_type": "code",
   "execution_count": null,
   "metadata": {},
   "outputs": [],
   "source": [
    "#3. After running constraint propagation once without search, do any of the domains change? (Apply AC-3 for the answer)\n",
    "from algorithms import AC3\n",
    "AC3(dinnerCSP)\n",
    "print(dinnerCSP.curr_domains)\n",
    "#none of the domains change\n"
   ]
  },
  {
   "cell_type": "code",
   "execution_count": null,
   "metadata": {},
   "outputs": [],
   "source": [
    "#4. Apply a backtracking search algorithm to solve ths problem\n",
    "from algorithms import backtracking_search\n",
    "result = backtracking_search(dinnerCSP)\n",
    "print(result)"
   ]
  }
 ],
 "metadata": {
  "kernelspec": {
   "display_name": "Python 3",
   "language": "python",
   "name": "python3"
  },
  "language_info": {
   "codemirror_mode": {
    "name": "ipython",
    "version": 3
   },
   "file_extension": ".py",
   "mimetype": "text/x-python",
   "name": "python",
   "nbconvert_exporter": "python",
   "pygments_lexer": "ipython3",
   "version": "3.10.12"
  }
 },
 "nbformat": 4,
 "nbformat_minor": 2
}
