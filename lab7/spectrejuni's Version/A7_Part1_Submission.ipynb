{
 "cells": [
  {
   "cell_type": "markdown",
   "metadata": {},
   "source": [
    "Notebook Setup\n",
    "---"
   ]
  },
  {
   "cell_type": "code",
   "execution_count": 1,
   "metadata": {},
   "outputs": [],
   "source": [
    "import os\n",
    "import sys"
   ]
  },
  {
   "cell_type": "code",
   "execution_count": 2,
   "metadata": {},
   "outputs": [],
   "source": [
    "%load_ext autoreload\n",
    "#Now, you can turn on auto-reloading\n",
    "%autoreload 2"
   ]
  },
  {
   "cell_type": "markdown",
   "metadata": {},
   "source": [
    "Tasks\n",
    "---"
   ]
  },
  {
   "cell_type": "markdown",
   "metadata": {},
   "source": [
    "You need to build a schedule for 4 courses:\n",
    "1. *Practical Programming Methodology* (2 lec, 2 labs per week)\n",
    "2. *Algorithms I* (2 lec, 1 lab per week)\n",
    "3. *Operating Systems* (2 lec, 1 lab per week)\n",
    "4. *Introduction to File and Database Management* (2 lec, 1 lab per week)\n",
    "\n",
    "Courses could be on *Monday, Tuesday, Wednesday, Thursday* and *Friday*.\n",
    "\n",
    "Each day of week has 3 time slots (*class1, class2, class3*)\n",
    "\n",
    "There can't be 2 lectures on the same course on the same day, but there can be a lecture and a lab on the same course on the same day.\n",
    "\n",
    "For example:\n",
    "\n",
    "```\n",
    "Wrong case:\n",
    "* Mon, class1: Practical Programming Methodology - lec\n",
    "* Mon, class2: Algorithms I - lec\n",
    "* Mon, class3: Practical Programming Methodology - lec\n",
    "\n",
    "Correct case:\n",
    "* Mon, class1: Practical Programming Methodology - lec\n",
    "* Mon, class2: Algorithms I - lec\n",
    "* Mon, class3: Practical Programming Methodology - lab\n",
    "```\n",
    "\n",
    "There can't be 2 lectures on the same course on an adjacent day, but there can be a lecture and a lab on the same course on an adjacent day.\n",
    "```\n",
    "Wrong case:\n",
    "* Mon, class1: Practical Programming Methodology - lec\n",
    "* Mon, class2: Algorithms I - lec\n",
    "* Tue, class1: Practical Programming Methodology - lec\n",
    "\n",
    "Correct case:\n",
    "* Mon, class1: Practical Programming Methodology - lec\n",
    "* Mon, class2: Algorithms I - lec\n",
    "* Tue, class1: Practical Programming Methodology - lab\n",
    "```\n",
    "\n",
    "There can't be 2 labs on the same course on an adjacent day.\n",
    "```\n",
    "Wrong case:\n",
    "* Mon, class1: Practical Programming Methodology - lab\n",
    "* Mon, class2: Algorithms I - lec\n",
    "* Tue, class1: Practical Programming Methodology - lab\n",
    "```"
   ]
  },
  {
   "cell_type": "markdown",
   "metadata": {},
   "source": [
    "Task 1 - Formulating the Problem as a CSP Problem"
   ]
  },
  {
   "cell_type": "code",
   "execution_count": null,
   "metadata": {},
   "outputs": [],
   "source": [
    "from utils import parse_neighbors\n"
   ]
  },
  {
   "cell_type": "markdown",
   "metadata": {},
   "source": [
    "Task 2 - Developing CSP Implementation Based on CSP Class"
   ]
  },
  {
   "cell_type": "code",
   "execution_count": null,
   "metadata": {},
   "outputs": [],
   "source": []
  },
  {
   "cell_type": "markdown",
   "metadata": {},
   "source": [
    "Task 3 - Applying the min_conflicts Algorithm to Solve the CSP"
   ]
  },
  {
   "cell_type": "code",
   "execution_count": null,
   "metadata": {},
   "outputs": [],
   "source": []
  }
 ],
 "metadata": {
  "kernelspec": {
   "display_name": "Python 3",
   "language": "python",
   "name": "python3"
  },
  "language_info": {
   "codemirror_mode": {
    "name": "ipython",
    "version": 3
   },
   "file_extension": ".py",
   "mimetype": "text/x-python",
   "name": "python",
   "nbconvert_exporter": "python",
   "pygments_lexer": "ipython3",
   "version": "3.12.0"
  }
 },
 "nbformat": 4,
 "nbformat_minor": 2
}
