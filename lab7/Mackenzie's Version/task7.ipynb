{
 "cells": [
  {
   "cell_type": "code",
   "execution_count": null,
   "metadata": {},
   "outputs": [],
   "source": [
    "from utils import *\n",
    "\n",
    "\n",
    "\n",
    "# Define variables for each day with three slots each\n",
    "variables = [\n",
    "    'mon_1', 'mon_2', 'mon_3',\n",
    "    'tue_1', 'tue_2', 'tue_3',\n",
    "    'wed_1', 'wed_2', 'wed_3',\n",
    "    'thu_1', 'thu_2', 'thu_3',\n",
    "    'fri_1', 'fri_2', 'fri_3'\n",
    "]  # Each day now has three slots\n",
    "\n",
    "# 1 - Practical Programming Methodology\n",
    "# 2 - Algorithms\n",
    "# 3 - Operating Systems\n",
    "# 4 - Intrpduction to File and Database Management\n",
    "# L means lab, A and B are different timeslots of the course\n",
    "domain = ['1_A','1_B', '1LA','1LB','2_A','2_B','2LA','2LB','3_A','3_B','3LA','3LB','4_A','4_B', '4LA','4LB','___','___', '___'] # domain of each variable, representing the sections of courses and labs\n",
    "\n",
    "weekdays = \"\"\"\n",
    "mon_1: mon_2 mon_3 tue_1 tue_2 tue_3; \n",
    "mon_2: mon_1 mon_3 tue_1 tue_2 tue_3; \n",
    "mon_3: mon_1 mon_2 tue_1 tue_2 tue_3;\n",
    "tue_1: tue_2 tue_3 mon_1 mon_2 mon_3 wed_1 wed_2 wed_3; \n",
    "tue_2: tue_1 tue_3 mon_1 mon_2 mon_3 wed_1 wed_2 wed_3; \n",
    "tue_3: tue_1 tue_2 mon_1 mon_2 mon_3 wed_1 wed_2 wed_3;\n",
    "wed_1: wed_2 wed_3 tue_1 tue_2 tue_3 thu_1 thu_2 thu_3; \n",
    "wed_2: wed_1 wed_3 tue_1 tue_2 tue_3 thu_1 thu_2 thu_3; \n",
    "wed_3: wed_1 wed_2 tue_1 tue_2 tue_3 thu_1 thu_2 thu_3;\n",
    "thu_1: thu_2 thu_3 wed_1 wed_2 wed_3 fri_1 fri_2 fri_3; \n",
    "thu_2: thu_1 thu_3 wed_1 wed_2 wed_3 fri_1 fri_2 fri_3; \n",
    "thu_3: thu_1 thu_2 wed_1 wed_2 wed_3 fri_1 fri_2 fri_3;\n",
    "fri_1: fri_2 fri_3 thu_1 thu_2 thu_3; \n",
    "fri_2: fri_1 fri_3 thu_1 thu_2 thu_3; \n",
    "fri_3: fri_1 fri_2 thu_1 thu_2 thu_3\n",
    "\"\"\"  \n",
    "\n"
   ]
  },
  {
   "cell_type": "code",
   "execution_count": null,
   "metadata": {},
   "outputs": [],
   "source": [
    "#2. Develop CSP implementation (based on CSP class)\n",
    "from CSPS import Schedule_CSP\n",
    "\n",
    "scheduleCSP = Schedule_CSP(domain, weekdays)\n",
    "\n",
    "print(scheduleCSP.variables)\n",
    "print(scheduleCSP.domains)\n",
    "print(scheduleCSP.neighbors)\n",
    "print(scheduleCSP.constraints)\n",
    "\n",
    "print(\"\\n\")\n",
    "print(\"--------------------------------\")\n",
    "print(\"\\n\")"
   ]
  },
  {
   "cell_type": "code",
   "execution_count": null,
   "metadata": {},
   "outputs": [],
   "source": [
    "#3. Apply min_conflicts to solve the problem\n",
    "\n",
    "from algorithms import min_conflicts\n",
    "\n",
    "\n",
    "\n",
    "min_conflicts(scheduleCSP)\n",
    "print(scheduleCSP.current)\n"
   ]
  }
 ],
 "metadata": {
  "language_info": {
   "name": "python"
  }
 },
 "nbformat": 4,
 "nbformat_minor": 2
}
